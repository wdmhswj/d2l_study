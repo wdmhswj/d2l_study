{
 "cells": [
  {
   "cell_type": "code",
   "execution_count": 1,
   "metadata": {},
   "outputs": [],
   "source": [
    "import torch\n",
    "from d2l import torch as d2l"
   ]
  },
  {
   "cell_type": "code",
   "execution_count": 2,
   "metadata": {},
   "outputs": [
    {
     "data": {
      "text/plain": [
       "tensor([[-0.2836, -2.8661, -1.8065,  1.0498],\n",
       "        [-0.8673, -2.6392, -2.9161,  3.3963],\n",
       "        [ 0.0354, -2.9665, -0.4827,  2.4485]])"
      ]
     },
     "execution_count": 2,
     "metadata": {},
     "output_type": "execute_result"
    }
   ],
   "source": [
    "X, W_xh = torch.normal(0, 1, (3, 1)), torch.normal(0, 1, (1, 4))\n",
    "H, W_hh = torch.normal(0, 1, (3, 4)), torch.normal(0, 1, (4, 4))\n",
    "torch.matmul(X, W_xh) + torch.matmul(H, W_hh)"
   ]
  },
  {
   "cell_type": "code",
   "execution_count": 4,
   "metadata": {},
   "outputs": [
    {
     "name": "stdout",
     "output_type": "stream",
     "text": [
      "tensor([[-0.0492],\n",
      "        [-1.2122],\n",
      "        [ 1.3159]])\n",
      "tensor([[-0.9700, -1.1096, -0.1299,  0.6139],\n",
      "        [ 0.4444, -2.3026,  0.9077,  0.1287],\n",
      "        [-0.4405, -0.6246,  0.0934,  0.0842]])\n",
      "tensor([[-0.0492, -0.9700, -1.1096, -0.1299,  0.6139],\n",
      "        [-1.2122,  0.4444, -2.3026,  0.9077,  0.1287],\n",
      "        [ 1.3159, -0.4405, -0.6246,  0.0934,  0.0842]])\n"
     ]
    }
   ],
   "source": [
    "print(X)\n",
    "print(H)\n",
    "print(torch.cat((X, H), 1))"
   ]
  },
  {
   "cell_type": "code",
   "execution_count": 5,
   "metadata": {},
   "outputs": [
    {
     "data": {
      "text/plain": [
       "tensor([[-0.2836, -2.8661, -1.8065,  1.0498],\n",
       "        [-0.8673, -2.6392, -2.9161,  3.3963],\n",
       "        [ 0.0354, -2.9665, -0.4827,  2.4485]])"
      ]
     },
     "execution_count": 5,
     "metadata": {},
     "output_type": "execute_result"
    }
   ],
   "source": [
    "# (X, H) matmul (W_xh, W_hh)^T = XW_xh + HW_hh\n",
    "torch.matmul(torch.cat((X, H), 1), torch.cat((W_xh, W_hh), 0))"
   ]
  },
  {
   "cell_type": "code",
   "execution_count": null,
   "metadata": {},
   "outputs": [],
   "source": []
  }
 ],
 "metadata": {
  "kernelspec": {
   "display_name": "d2l2",
   "language": "python",
   "name": "python3"
  },
  "language_info": {
   "codemirror_mode": {
    "name": "ipython",
    "version": 3
   },
   "file_extension": ".py",
   "mimetype": "text/x-python",
   "name": "python",
   "nbconvert_exporter": "python",
   "pygments_lexer": "ipython3",
   "version": "3.9.19"
  }
 },
 "nbformat": 4,
 "nbformat_minor": 2
}
